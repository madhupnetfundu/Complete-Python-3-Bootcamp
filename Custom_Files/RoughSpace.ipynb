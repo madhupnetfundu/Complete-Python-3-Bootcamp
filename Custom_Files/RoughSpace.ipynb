{
 "cells": [
  {
   "cell_type": "code",
   "execution_count": 58,
   "id": "b11b639e",
   "metadata": {},
   "outputs": [
    {
     "name": "stdout",
     "output_type": "stream",
     "text": [
      "['10.4.128.2', '10.4.128.3', '10.4.128.4', '10.4.128.5', '10.4.128.6', '10.4.128.7', '10.4.128.9', '10.4.128.10', '10.4.128.11', '10.4.128.12', '10.4.128.13', '10.4.128.14', '10.4.128.15', '10.4.128.16']\n"
     ]
    }
   ],
   "source": [
    "cell_ips = []\n",
    "cell_ips_exclude = ['10.4.128.8']\n",
    "for i in range (2,17):\n",
    "    cell_ips.insert(i, \"10.4.128.\" + str (i))\n",
    "# print (cell_ips)\n",
    "\n",
    "for excluded_ip in cell_ips_exclude:\n",
    "    cell_ips.pop(cell_ips.index(excluded_ip))\n",
    "print (cell_ips)"
   ]
  },
  {
   "cell_type": "code",
   "execution_count": 62,
   "id": "02e3e32d",
   "metadata": {},
   "outputs": [
    {
     "data": {
      "text/plain": [
       "7"
      ]
     },
     "execution_count": 62,
     "metadata": {},
     "output_type": "execute_result"
    }
   ],
   "source": [
    "cell_ips.index('10.4.128.10')"
   ]
  },
  {
   "cell_type": "code",
   "execution_count": 63,
   "id": "957c52f3",
   "metadata": {},
   "outputs": [
    {
     "data": {
      "text/plain": [
       "['10.4.128.2',\n",
       " '10.4.128.3',\n",
       " '10.4.128.4',\n",
       " '10.4.128.5',\n",
       " '10.4.128.6',\n",
       " '10.4.128.7',\n",
       " '10.4.128.9',\n",
       " '10.4.128.10',\n",
       " '10.4.128.11',\n",
       " '10.4.128.12',\n",
       " '10.4.128.13',\n",
       " '10.4.128.14',\n",
       " '10.4.128.15',\n",
       " '10.4.128.16']"
      ]
     },
     "execution_count": 63,
     "metadata": {},
     "output_type": "execute_result"
    }
   ],
   "source": [
    "cell_ips"
   ]
  },
  {
   "cell_type": "code",
   "execution_count": null,
   "id": "6396d5b3",
   "metadata": {},
   "outputs": [],
   "source": []
  }
 ],
 "metadata": {
  "kernelspec": {
   "display_name": "Python 3 (ipykernel)",
   "language": "python",
   "name": "python3"
  },
  "language_info": {
   "codemirror_mode": {
    "name": "ipython",
    "version": 3
   },
   "file_extension": ".py",
   "mimetype": "text/x-python",
   "name": "python",
   "nbconvert_exporter": "python",
   "pygments_lexer": "ipython3",
   "version": "3.9.7"
  }
 },
 "nbformat": 4,
 "nbformat_minor": 5
}
